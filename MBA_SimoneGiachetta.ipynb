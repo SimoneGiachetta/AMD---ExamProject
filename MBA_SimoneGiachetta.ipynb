{
  "nbformat": 4,
  "nbformat_minor": 0,
  "metadata": {
    "colab": {
      "name": "MBA_SimoneGiachetta.ipynb",
      "provenance": [],
      "collapsed_sections": []
    },
    "kernelspec": {
      "name": "python3",
      "display_name": "Python 3"
    },
    "language_info": {
      "name": "python"
    }
  },
  "cells": [
    {
      "cell_type": "markdown",
      "metadata": {
        "id": "q2BtNHBQPC1W"
      },
      "source": [
        "## **SETUP**"
      ]
    },
    {
      "cell_type": "code",
      "metadata": {
        "colab": {
          "base_uri": "https://localhost:8080/"
        },
        "id": "cy6-rKgxNRbV",
        "outputId": "7c6848c8-e62a-446d-b7fc-ab593127ca73"
      },
      "source": [
        "# Download and import the required packages\n",
        "\n",
        "!apt-get install openjdk-8-jdk-headless -qq > /dev/null\n",
        "!wget -q http://www-eu.apache.org/dist/spark/spark-2.4.8/spark-2.4.8-bin-hadoop2.7.tgz\n",
        "!tar xf spark-2.4.8-bin-hadoop2.7.tgz\n",
        "!pip install -q findspark\n",
        "!pip install kaggle"
      ],
      "execution_count": 1,
      "outputs": [
        {
          "output_type": "stream",
          "name": "stdout",
          "text": [
            "Requirement already satisfied: kaggle in /usr/local/lib/python3.7/dist-packages (1.5.12)\n",
            "Requirement already satisfied: requests in /usr/local/lib/python3.7/dist-packages (from kaggle) (2.23.0)\n",
            "Requirement already satisfied: tqdm in /usr/local/lib/python3.7/dist-packages (from kaggle) (4.62.3)\n",
            "Requirement already satisfied: python-slugify in /usr/local/lib/python3.7/dist-packages (from kaggle) (5.0.2)\n",
            "Requirement already satisfied: urllib3 in /usr/local/lib/python3.7/dist-packages (from kaggle) (1.24.3)\n",
            "Requirement already satisfied: six>=1.10 in /usr/local/lib/python3.7/dist-packages (from kaggle) (1.15.0)\n",
            "Requirement already satisfied: python-dateutil in /usr/local/lib/python3.7/dist-packages (from kaggle) (2.8.2)\n",
            "Requirement already satisfied: certifi in /usr/local/lib/python3.7/dist-packages (from kaggle) (2021.5.30)\n",
            "Requirement already satisfied: text-unidecode>=1.3 in /usr/local/lib/python3.7/dist-packages (from python-slugify->kaggle) (1.3)\n",
            "Requirement already satisfied: chardet<4,>=3.0.2 in /usr/local/lib/python3.7/dist-packages (from requests->kaggle) (3.0.4)\n",
            "Requirement already satisfied: idna<3,>=2.5 in /usr/local/lib/python3.7/dist-packages (from requests->kaggle) (2.10)\n"
          ]
        }
      ]
    },
    {
      "cell_type": "code",
      "metadata": {
        "id": "OL_wnZsnOYP3"
      },
      "source": [
        "import os\n",
        "os.environ[\"JAVA_HOME\"] = \"/usr/lib/jvm/java-8-openjdk-amd64\"\n",
        "os.environ[\"SPARK_HOME\"] = \"/content/spark-2.4.5-bin-hadoop2.7\""
      ],
      "execution_count": 2,
      "outputs": []
    },
    {
      "cell_type": "code",
      "metadata": {
        "id": "AAwyswn2Omm2"
      },
      "source": [
        "import findspark\n",
        "findspark.init(\"spark-2.4.8-bin-hadoop2.7\")\n",
        "from pyspark.sql import SparkSession\n",
        "spark = SparkSession.builder.master(\"local[*]\").getOrCreate()"
      ],
      "execution_count": 3,
      "outputs": []
    },
    {
      "cell_type": "code",
      "metadata": {
        "id": "3m4aj8fiOt0g"
      },
      "source": [
        "import pyspark\n",
        "sc = spark.sparkContext"
      ],
      "execution_count": 4,
      "outputs": []
    },
    {
      "cell_type": "code",
      "metadata": {
        "id": "99sRL8miOvKq"
      },
      "source": [
        "# Remember to delete API keys !!!!\n",
        "from google.colab import files\n",
        "files.upload()"
      ],
      "execution_count": null,
      "outputs": []
    },
    {
      "cell_type": "code",
      "metadata": {
        "colab": {
          "base_uri": "https://localhost:8080/"
        },
        "id": "2yd8GeLQO28_",
        "outputId": "87ce090c-f0c8-4180-824c-4240f75f8283"
      },
      "source": [
        "# Download the dataset using the Kaggle API\n",
        "\n",
        "!mkdir -p ~/.kaggle \n",
        "!mv kaggle.json ~/.kaggle/\n",
        "!chmod 600 /root/.kaggle/kaggle.json\n",
        "!kaggle datasets download -d ashirwadsangwan/imdb-dataset\n",
        "!unzip imdb-dataset.zip"
      ],
      "execution_count": 6,
      "outputs": [
        {
          "output_type": "stream",
          "name": "stdout",
          "text": [
            "Downloading imdb-dataset.zip to /content\n",
            " 99% 1.43G/1.44G [00:11<00:00, 96.7MB/s]\n",
            "100% 1.44G/1.44G [00:11<00:00, 134MB/s] \n",
            "Archive:  imdb-dataset.zip\n",
            "  inflating: name.basics.tsv.gz      \n",
            "  inflating: name.basics.tsv/name.basics.tsv  \n",
            "  inflating: title.akas.tsv.gz       \n",
            "  inflating: title.akas.tsv/title.akas.tsv  \n",
            "  inflating: title.basics.tsv.gz     \n",
            "  inflating: title.basics.tsv/title.basics.tsv  \n",
            "  inflating: title.principals.tsv.gz  \n",
            "  inflating: title.principals.tsv/title.principals.tsv  \n",
            "  inflating: title.ratings.tsv.gz    \n",
            "  inflating: title.ratings.tsv/title.ratings.tsv  \n"
          ]
        }
      ]
    },
    {
      "cell_type": "markdown",
      "metadata": {
        "id": "fdy3hDW1PL7I"
      },
      "source": [
        "### **DATA**"
      ]
    },
    {
      "cell_type": "code",
      "metadata": {
        "colab": {
          "base_uri": "https://localhost:8080/"
        },
        "id": "1gqPuyo8PAYF",
        "outputId": "b9052d5d-d4da-4005-dbef-95c6c4a65db5"
      },
      "source": [
        "# Principals data\n",
        "principals = spark.read.csv(\"/content/title.principals.tsv/title.principals.tsv\", sep=r'\\t', header=True)\n",
        "principals.createOrReplaceTempView(\"principals\")\n",
        "principals.show(n = 10)"
      ],
      "execution_count": 7,
      "outputs": [
        {
          "output_type": "stream",
          "name": "stdout",
          "text": [
            "+---------+--------+---------+---------------+--------------------+-----------+\n",
            "|   tconst|ordering|   nconst|       category|                 job| characters|\n",
            "+---------+--------+---------+---------------+--------------------+-----------+\n",
            "|tt0000001|       1|nm1588970|           self|                  \\N|[\"Herself\"]|\n",
            "|tt0000001|       2|nm0005690|       director|                  \\N|         \\N|\n",
            "|tt0000001|       3|nm0374658|cinematographer|director of photo...|         \\N|\n",
            "|tt0000002|       1|nm0721526|       director|                  \\N|         \\N|\n",
            "|tt0000002|       2|nm1335271|       composer|                  \\N|         \\N|\n",
            "|tt0000003|       1|nm0721526|       director|                  \\N|         \\N|\n",
            "|tt0000003|       2|nm5442194|       producer|            producer|         \\N|\n",
            "|tt0000003|       3|nm1335271|       composer|                  \\N|         \\N|\n",
            "|tt0000003|       4|nm5442200|         editor|                  \\N|         \\N|\n",
            "|tt0000004|       1|nm0721526|       director|                  \\N|         \\N|\n",
            "+---------+--------+---------+---------------+--------------------+-----------+\n",
            "only showing top 10 rows\n",
            "\n"
          ]
        }
      ]
    },
    {
      "cell_type": "code",
      "metadata": {
        "colab": {
          "base_uri": "https://localhost:8080/"
        },
        "id": "MqRpBtExPXis",
        "outputId": "0d366a65-e16c-426d-fab2-26aa4babad64"
      },
      "source": [
        "# Title data\n",
        "title = spark.read.csv(\"/content/title.basics.tsv/title.basics.tsv\", sep=r'\\t', header=True)\n",
        "title.createOrReplaceTempView(\"title\")\n",
        "title.show(n = 10)"
      ],
      "execution_count": 8,
      "outputs": [
        {
          "output_type": "stream",
          "name": "stdout",
          "text": [
            "+---------+---------+--------------------+--------------------+-------+---------+-------+--------------+--------------------+\n",
            "|   tconst|titleType|        primaryTitle|       originalTitle|isAdult|startYear|endYear|runtimeMinutes|              genres|\n",
            "+---------+---------+--------------------+--------------------+-------+---------+-------+--------------+--------------------+\n",
            "|tt0000001|    short|          Carmencita|          Carmencita|      0|     1894|     \\N|             1|   Documentary,Short|\n",
            "|tt0000002|    short|Le clown et ses c...|Le clown et ses c...|      0|     1892|     \\N|             5|     Animation,Short|\n",
            "|tt0000003|    short|      Pauvre Pierrot|      Pauvre Pierrot|      0|     1892|     \\N|             4|Animation,Comedy,...|\n",
            "|tt0000004|    short|         Un bon bock|         Un bon bock|      0|     1892|     \\N|            \\N|     Animation,Short|\n",
            "|tt0000005|    short|    Blacksmith Scene|    Blacksmith Scene|      0|     1893|     \\N|             1|        Comedy,Short|\n",
            "|tt0000006|    short|   Chinese Opium Den|   Chinese Opium Den|      0|     1894|     \\N|             1|               Short|\n",
            "|tt0000007|    short|Corbett and Court...|Corbett and Court...|      0|     1894|     \\N|             1|         Short,Sport|\n",
            "|tt0000008|    short|Edison Kinetoscop...|Edison Kinetoscop...|      0|     1894|     \\N|             1|   Documentary,Short|\n",
            "|tt0000009|    movie|          Miss Jerry|          Miss Jerry|      0|     1894|     \\N|            45|             Romance|\n",
            "|tt0000010|    short| Exiting the Factory|La sortie de l'us...|      0|     1895|     \\N|             1|   Documentary,Short|\n",
            "+---------+---------+--------------------+--------------------+-------+---------+-------+--------------+--------------------+\n",
            "only showing top 10 rows\n",
            "\n"
          ]
        }
      ]
    },
    {
      "cell_type": "code",
      "metadata": {
        "colab": {
          "base_uri": "https://localhost:8080/"
        },
        "id": "Swe9yS9rPbqL",
        "outputId": "1b4ab4dd-d7b3-453f-f342-ead5005e5aa0"
      },
      "source": [
        "# People data\n",
        "people = spark.read.csv(\"/content/name.basics.tsv/name.basics.tsv\", sep=r'\\t', header=True)\n",
        "people.createOrReplaceTempView(\"people\")\n",
        "people.show(n = 10)"
      ],
      "execution_count": 9,
      "outputs": [
        {
          "output_type": "stream",
          "name": "stdout",
          "text": [
            "+---------+---------------+---------+---------+--------------------+--------------------+\n",
            "|   nconst|    primaryName|birthYear|deathYear|   primaryProfession|      knownForTitles|\n",
            "+---------+---------------+---------+---------+--------------------+--------------------+\n",
            "|nm0000001|   Fred Astaire|     1899|     1987|soundtrack,actor,...|tt0050419,tt00531...|\n",
            "|nm0000002|  Lauren Bacall|     1924|     2014|  actress,soundtrack|tt0071877,tt01170...|\n",
            "|nm0000003|Brigitte Bardot|     1934|       \\N|actress,soundtrac...|tt0054452,tt00491...|\n",
            "|nm0000004|   John Belushi|     1949|     1982|actor,writer,soun...|tt0077975,tt00725...|\n",
            "|nm0000005| Ingmar Bergman|     1918|     2007|writer,director,a...|tt0069467,tt00509...|\n",
            "|nm0000006| Ingrid Bergman|     1915|     1982|actress,soundtrac...|tt0038109,tt00368...|\n",
            "|nm0000007|Humphrey Bogart|     1899|     1957|actor,soundtrack,...|tt0043265,tt00338...|\n",
            "|nm0000008|  Marlon Brando|     1924|     2004|actor,soundtrack,...|tt0070849,tt00787...|\n",
            "|nm0000009| Richard Burton|     1925|     1984|actor,producer,so...|tt0057877,tt00878...|\n",
            "|nm0000010|   James Cagney|     1899|     1986|actor,soundtrack,...|tt0035575,tt00318...|\n",
            "+---------+---------------+---------+---------+--------------------+--------------------+\n",
            "only showing top 10 rows\n",
            "\n"
          ]
        }
      ]
    },
    {
      "cell_type": "code",
      "metadata": {
        "colab": {
          "base_uri": "https://localhost:8080/"
        },
        "id": "gs3zVRnsPct9",
        "outputId": "85d6d2d7-c710-4593-b567-d9207c5b122b"
      },
      "source": [
        "# Rating data\n",
        "ratings = spark.read.csv(\"/content/title.ratings.tsv/title.ratings.tsv\", sep=r'\\t', header=True)\n",
        "ratings.createOrReplaceTempView(\"people\")\n",
        "ratings.show(n = 10)"
      ],
      "execution_count": 10,
      "outputs": [
        {
          "output_type": "stream",
          "name": "stdout",
          "text": [
            "+---------+-------------+--------+\n",
            "|   tconst|averageRating|numVotes|\n",
            "+---------+-------------+--------+\n",
            "|tt0000001|          5.6|    1550|\n",
            "|tt0000002|          6.1|     186|\n",
            "|tt0000003|          6.5|    1207|\n",
            "|tt0000004|          6.2|     113|\n",
            "|tt0000005|          6.1|    1934|\n",
            "|tt0000006|          5.2|     102|\n",
            "|tt0000007|          5.5|     615|\n",
            "|tt0000008|          5.4|    1667|\n",
            "|tt0000009|          5.4|      81|\n",
            "|tt0000010|          6.9|    5545|\n",
            "+---------+-------------+--------+\n",
            "only showing top 10 rows\n",
            "\n"
          ]
        }
      ]
    },
    {
      "cell_type": "markdown",
      "metadata": {
        "id": "7C5MtWWuPjN-"
      },
      "source": [
        "### **CLEANING AND PREPROCESSING**"
      ]
    },
    {
      "cell_type": "code",
      "metadata": {
        "colab": {
          "base_uri": "https://localhost:8080/"
        },
        "id": "XUig5h5VPe50",
        "outputId": "eddda68c-5795-49bb-a1d7-e5fafe23d713"
      },
      "source": [
        "# Selecting only the film at least mediocre that has at least 100 votes \n",
        "ratings_df = ratings.filter(ratings['averageRating'] > 4.4).filter(ratings['numVotes'] > 100)\n",
        "ratings_df.createOrReplaceTempView('ratings_df')\n",
        "ratings_df.show(n = 10)"
      ],
      "execution_count": 11,
      "outputs": [
        {
          "output_type": "stream",
          "name": "stdout",
          "text": [
            "+---------+-------------+--------+\n",
            "|   tconst|averageRating|numVotes|\n",
            "+---------+-------------+--------+\n",
            "|tt0000001|          5.6|    1550|\n",
            "|tt0000002|          6.1|     186|\n",
            "|tt0000003|          6.5|    1207|\n",
            "|tt0000004|          6.2|     113|\n",
            "|tt0000005|          6.1|    1934|\n",
            "|tt0000006|          5.2|     102|\n",
            "|tt0000007|          5.5|     615|\n",
            "|tt0000008|          5.4|    1667|\n",
            "|tt0000010|          6.9|    5545|\n",
            "|tt0000011|          5.2|     236|\n",
            "+---------+-------------+--------+\n",
            "only showing top 10 rows\n",
            "\n"
          ]
        }
      ]
    },
    {
      "cell_type": "code",
      "metadata": {
        "colab": {
          "base_uri": "https://localhost:8080/"
        },
        "id": "wm8N84kNPwD-",
        "outputId": "0f410168-6317-4165-cc73-f9582690e91e"
      },
      "source": [
        "import time\n",
        "q = 0\n",
        "for i in range(10000):\n",
        "  start = time.time()\n",
        "  actors = principals.filter(principals['category'] == 'actor')\n",
        "  q += (time.time() - start)\n",
        "print(q)"
      ],
      "execution_count": 13,
      "outputs": [
        {
          "output_type": "stream",
          "name": "stdout",
          "text": [
            "24.36868691444397\n"
          ]
        }
      ]
    },
    {
      "cell_type": "code",
      "metadata": {
        "colab": {
          "base_uri": "https://localhost:8080/"
        },
        "id": "82KO5oZTQRwH",
        "outputId": "2a098a72-ae8a-454d-8074-e54da47af9eb"
      },
      "source": [
        "q = 0\n",
        "for i in range(10000):\n",
        "  start = time.time()\n",
        "  query = 'SELECT * from principals WHERE category = \"actor\" '\n",
        "  actors_1 = spark.sql(query)\n",
        "  q += (time.time() - start)\n",
        "print(q)"
      ],
      "execution_count": 14,
      "outputs": [
        {
          "output_type": "stream",
          "name": "stdout",
          "text": [
            "21.36584782600403\n"
          ]
        }
      ]
    },
    {
      "cell_type": "code",
      "metadata": {
        "id": "vPA2cbwTe25a"
      },
      "source": [
        "query = 'SELECT * from principals WHERE category = \"actor\" '\n",
        "actors_1 = spark.sql(query)\n",
        "actors_1.createOrReplaceTempView('actors_1')"
      ],
      "execution_count": 15,
      "outputs": []
    },
    {
      "cell_type": "code",
      "metadata": {
        "colab": {
          "base_uri": "https://localhost:8080/"
        },
        "id": "cRwmZFx7e7EW",
        "outputId": "0a26bb46-ef0d-43d6-9200-052038988e57"
      },
      "source": [
        "query = ''' \n",
        "            SELECT actors_1.tconst, actors_1.nconst \n",
        "             FROM ratings_df \n",
        "             INNER JOIN actors_1 ON ratings_df.tconst = actors_1.tconst \n",
        "             '''\n",
        "good_film_actors = spark.sql(query)\n",
        "good_film_actors.createOrReplaceTempView('good_film_actors')\n",
        "good_film_actors.show()"
      ],
      "execution_count": 16,
      "outputs": [
        {
          "output_type": "stream",
          "name": "stdout",
          "text": [
            "+---------+---------+\n",
            "|   tconst|   nconst|\n",
            "+---------+---------+\n",
            "|tt0000005|nm0443482|\n",
            "|tt0000005|nm0653042|\n",
            "|tt0000007|nm0179163|\n",
            "|tt0000007|nm0183947|\n",
            "|tt0000008|nm0653028|\n",
            "|tt0000011|nm3692297|\n",
            "|tt0000014|nm0166380|\n",
            "|tt0000014|nm0244989|\n",
            "|tt0000017|nm3691272|\n",
            "|tt0000018|nm3692071|\n",
            "|tt0000026|nm2350007|\n",
            "|tt0000026|nm0525907|\n",
            "|tt0000026|nm1151424|\n",
            "|tt0000026|nm2354154|\n",
            "|tt0000036|nm0420198|\n",
            "|tt0000070|nm0525908|\n",
            "|tt0000075|nm0617588|\n",
            "|tt0000076|nm0420198|\n",
            "|tt0000091|nm6170115|\n",
            "|tt0000091|nm0617588|\n",
            "+---------+---------+\n",
            "only showing top 20 rows\n",
            "\n"
          ]
        }
      ]
    },
    {
      "cell_type": "code",
      "metadata": {
        "colab": {
          "base_uri": "https://localhost:8080/"
        },
        "id": "qhWqY1xQe_OO",
        "outputId": "3bc55097-a4d5-43f0-e7b7-02bf07ef8ac7"
      },
      "source": [
        "query = '''SELECT * \n",
        "          FROM (SELECT nconst, count(tconst) as counter FROM good_film_actors GROUP BY nconst) \n",
        "          WHERE counter > 1'''\n",
        "more_than_one = spark.sql(query)\n",
        "more_than_one.createOrReplaceTempView('more_than_one')\n",
        "more_than_one.show(n = 5)"
      ],
      "execution_count": 17,
      "outputs": [
        {
          "output_type": "stream",
          "name": "stdout",
          "text": [
            "+---------+-------+\n",
            "|   nconst|counter|\n",
            "+---------+-------+\n",
            "|nm0709856|      7|\n",
            "|nm0124236|      9|\n",
            "|nm0706926|     11|\n",
            "|nm0018091|      2|\n",
            "|nm0564706|      2|\n",
            "+---------+-------+\n",
            "only showing top 5 rows\n",
            "\n"
          ]
        }
      ]
    },
    {
      "cell_type": "code",
      "metadata": {
        "colab": {
          "base_uri": "https://localhost:8080/"
        },
        "id": "v1S15EFFkg0U",
        "outputId": "270cf5d9-353f-4760-e73f-c2a6495735af"
      },
      "source": [
        "query = '''SELECT good_film_actors.nconst, good_film_actors.tconst \n",
        "          FROM more_than_one\n",
        "          INNER JOIN good_film_actors ON good_film_actors.nconst = more_than_one.nconst'''\n",
        "last_actors = spark.sql(query)\n",
        "last_actors.createOrReplaceTempView('last_actors')\n",
        "last_actors.show()"
      ],
      "execution_count": 18,
      "outputs": [
        {
          "output_type": "stream",
          "name": "stdout",
          "text": [
            "+---------+---------+\n",
            "|   nconst|   tconst|\n",
            "+---------+---------+\n",
            "|nm0000086|tt0045293|\n",
            "|nm0000086|tt0049877|\n",
            "|nm0000086|tt0050260|\n",
            "|nm0000086|tt0051989|\n",
            "|nm0000086|tt0052276|\n",
            "|nm0000086|tt0052686|\n",
            "|nm0000086|tt0053370|\n",
            "|nm0000086|tt0053749|\n",
            "|nm0000086|tt0056290|\n",
            "|nm0000086|tt0056906|\n",
            "|nm0000086|tt0057051|\n",
            "|nm0000086|tt0057414|\n",
            "|nm0000086|tt0057422|\n",
            "|nm0000086|tt0057967|\n",
            "|nm0000086|tt0058089|\n",
            "|nm0000086|tt0058135|\n",
            "|nm0000086|tt0058704|\n",
            "|nm0000086|tt0058986|\n",
            "|nm0000086|tt0059168|\n",
            "|nm0000086|tt0060400|\n",
            "+---------+---------+\n",
            "only showing top 20 rows\n",
            "\n"
          ]
        }
      ]
    },
    {
      "cell_type": "code",
      "metadata": {
        "colab": {
          "base_uri": "https://localhost:8080/"
        },
        "id": "jUJOAd30e5Q1",
        "outputId": "1651e1a1-a0e5-40d3-cdbe-92b9785d69da"
      },
      "source": [
        "print(actors_1.count())\n",
        "print(last_actors.count())"
      ],
      "execution_count": 19,
      "outputs": [
        {
          "output_type": "stream",
          "name": "stdout",
          "text": [
            "8493701\n",
            "435265\n"
          ]
        }
      ]
    },
    {
      "cell_type": "markdown",
      "metadata": {
        "id": "J4rUDy-Jj9_X"
      },
      "source": [
        "### **EDA**"
      ]
    },
    {
      "cell_type": "code",
      "metadata": {
        "colab": {
          "base_uri": "https://localhost:8080/"
        },
        "id": "3cz6Lm9tj6uN",
        "outputId": "9e43ae50-1dc3-4c80-bfce-de5e181ef12d"
      },
      "source": [
        "query = ' SELECT count(distinct tconst) FROM last_actors'\n",
        "qr = spark.sql(query)\n",
        "qr.show()"
      ],
      "execution_count": 20,
      "outputs": [
        {
          "output_type": "stream",
          "name": "stdout",
          "text": [
            "+----------------------+\n",
            "|count(DISTINCT tconst)|\n",
            "+----------------------+\n",
            "|                171270|\n",
            "+----------------------+\n",
            "\n"
          ]
        }
      ]
    },
    {
      "cell_type": "code",
      "metadata": {
        "colab": {
          "base_uri": "https://localhost:8080/"
        },
        "id": "ZlJAAQNLozvu",
        "outputId": "953bb53a-3402-4435-bbf2-97077e9d32ee"
      },
      "source": [
        "query = ' SELECT count(distinct nconst) FROM last_actors'\n",
        "qr = spark.sql(query)\n",
        "qr.show()"
      ],
      "execution_count": 21,
      "outputs": [
        {
          "output_type": "stream",
          "name": "stdout",
          "text": [
            "+----------------------+\n",
            "|count(DISTINCT nconst)|\n",
            "+----------------------+\n",
            "|                 41827|\n",
            "+----------------------+\n",
            "\n"
          ]
        }
      ]
    },
    {
      "cell_type": "code",
      "metadata": {
        "colab": {
          "base_uri": "https://localhost:8080/"
        },
        "id": "uIVczwUop84Y",
        "outputId": "6e723e38-ce1c-4267-f2ef-4a7b8e5f9b03"
      },
      "source": [
        "query = ''' SELECT count(distinct tconst)/count(distinct nconst) as average \n",
        "          FROM last_actors'''\n",
        "qr = spark.sql(query)\n",
        "qr.show()"
      ],
      "execution_count": 22,
      "outputs": [
        {
          "output_type": "stream",
          "name": "stdout",
          "text": [
            "+-----------------+\n",
            "|          average|\n",
            "+-----------------+\n",
            "|4.094723503956774|\n",
            "+-----------------+\n",
            "\n"
          ]
        }
      ]
    },
    {
      "cell_type": "code",
      "metadata": {
        "colab": {
          "base_uri": "https://localhost:8080/"
        },
        "id": "NUgPgpw6sYZ0",
        "outputId": "9a344f26-bac9-4efe-cc59-733f3d63f6d3"
      },
      "source": [
        "query = '''SELECT tconst, count(nconst)\n",
        "          FROM last_actors\n",
        "          GROUP BY tconst\n",
        "          ORDER BY count(nconst) DESC'''\n",
        "qr = spark.sql(query)\n",
        "qr.show()"
      ],
      "execution_count": 23,
      "outputs": [
        {
          "output_type": "stream",
          "name": "stdout",
          "text": [
            "+---------+-------------+\n",
            "|   tconst|count(nconst)|\n",
            "+---------+-------------+\n",
            "|tt2221405|           10|\n",
            "|tt2205635|           10|\n",
            "|tt2606492|           10|\n",
            "|tt0191149|           10|\n",
            "|tt3639836|           10|\n",
            "|tt0877057|           10|\n",
            "|tt0052506|           10|\n",
            "|tt0051261|           10|\n",
            "|tt0278228|           10|\n",
            "|tt0441925|           10|\n",
            "|tt4508902|           10|\n",
            "|tt2359704|           10|\n",
            "|tt0071036|           10|\n",
            "|tt0388650|           10|\n",
            "|tt0112538|           10|\n",
            "|tt0262889|           10|\n",
            "|tt0324485|           10|\n",
            "|tt0061287|           10|\n",
            "|tt0115097|           10|\n",
            "|tt0497548|           10|\n",
            "+---------+-------------+\n",
            "only showing top 20 rows\n",
            "\n"
          ]
        }
      ]
    },
    {
      "cell_type": "markdown",
      "metadata": {
        "id": "wUr0Gjwx4DEn"
      },
      "source": [
        "### **FPGrowth**"
      ]
    },
    {
      "cell_type": "code",
      "metadata": {
        "id": "s6Oibxih3qcH"
      },
      "source": [
        "from pyspark.sql.functions import collect_set\n",
        "from pyspark.ml.fpm import FPGrowth\n"
      ],
      "execution_count": 24,
      "outputs": []
    },
    {
      "cell_type": "code",
      "metadata": {
        "id": "jC6YVstx34dZ"
      },
      "source": [
        "bask = last_actors.groupBy('tconst').agg(collect_set('nconst').alias('name_id'))\n",
        "bask.createOrReplaceTempView('bask')\n",
        "fpg = FPGrowth(itemsCol=\"name_id\", minSupport=0.001)\n",
        "model = fpg.fit(bask)"
      ],
      "execution_count": 26,
      "outputs": []
    },
    {
      "cell_type": "code",
      "metadata": {
        "colab": {
          "base_uri": "https://localhost:8080/"
        },
        "id": "kweWg18P6qr4",
        "outputId": "cf3e83f2-e24e-4dc6-92b4-94bd32b07ea7"
      },
      "source": [
        "frequent = model.freqItemsets\n",
        "frequent.createOrReplaceTempView(\"frequent\")\n",
        "frequent.show()"
      ],
      "execution_count": 27,
      "outputs": [
        {
          "output_type": "stream",
          "name": "stdout",
          "text": [
            "+--------------------+----+\n",
            "|               items|freq|\n",
            "+--------------------+----+\n",
            "|         [nm0000305]| 856|\n",
            "|         [nm0144657]| 720|\n",
            "|         [nm0532235]| 659|\n",
            "|         [nm0642145]| 516|\n",
            "|         [nm0224007]| 501|\n",
            "|         [nm0444786]| 442|\n",
            "|         [nm0001293]| 439|\n",
            "|[nm0001293, nm053...| 341|\n",
            "|         [nm0299192]| 434|\n",
            "|         [nm0915762]| 425|\n",
            "|         [nm0001101]| 424|\n",
            "|         [nm0001832]| 421|\n",
            "|         [nm0001319]| 419|\n",
            "|[nm0001319, nm091...| 307|\n",
            "|         [nm0004770]| 416|\n",
            "|         [nm0247040]| 400|\n",
            "|         [nm0048389]| 393|\n",
            "|         [nm0001288]| 385|\n",
            "|         [nm0000741]| 382|\n",
            "|         [nm0001455]| 376|\n",
            "+--------------------+----+\n",
            "only showing top 20 rows\n",
            "\n"
          ]
        }
      ]
    },
    {
      "cell_type": "code",
      "metadata": {
        "colab": {
          "base_uri": "https://localhost:8080/"
        },
        "id": "pWqheiQs78Cv",
        "outputId": "904abab4-4f77-4758-cb03-716315cc1dda"
      },
      "source": [
        "associationRules = model.associationRules\n",
        "associationRules.createOrReplaceTempView(\"associationRules\")\n",
        "associationRules.show()"
      ],
      "execution_count": 28,
      "outputs": [
        {
          "output_type": "stream",
          "name": "stdout",
          "text": [
            "+--------------------+-----------+------------------+------------------+\n",
            "|          antecedent| consequent|        confidence|              lift|\n",
            "+--------------------+-----------+------------------+------------------+\n",
            "|[nm0004898, nm049...|[nm0000494]|0.9942857142857143| 901.0122448979592|\n",
            "|         [nm0004310]|[nm0002935]|               1.0| 835.4634146341463|\n",
            "|         [nm0552509]|[nm0001832]|0.9019607843137255| 366.9330725164175|\n",
            "|         [nm0427489]|[nm0001083]|0.9955947136563876| 615.5794462380127|\n",
            "|[nm0000996, nm000...|[nm0000408]|               1.0| 882.8350515463918|\n",
            "|[nm2625816, nm064...|[nm0000563]|               1.0| 658.7307692307692|\n",
            "|[nm0183417, nm000...|[nm0756114]|0.9948453608247423| 851.9358247422681|\n",
            "|         [nm0005380]|[nm0004951]|0.8647540983606558| 617.1101434426229|\n",
            "|         [nm0333410]|[nm0005194]|0.8695652173913043| 559.8888525661981|\n",
            "|         [nm0333410]|[nm0005110]|0.8647342995169082|  423.151552795031|\n",
            "|         [nm0813812]|[nm0913587]|0.9347826086956522| 870.1098771266542|\n",
            "|         [nm0394438]|[nm0000994]| 0.974169741697417|507.13085611099274|\n",
            "|         [nm0394438]|[nm0848251]|0.8081180811808119| 604.3946889250552|\n",
            "|         [nm0001652]|[nm0001101]|0.9004524886877828|363.72758900367114|\n",
            "|         [nm0137230]|[nm0005531]|0.8942731277533039| 705.8163990336792|\n",
            "|         [nm0137230]|[nm0261678]|0.8942731277533039| 729.3436123348017|\n",
            "|         [nm0374865]|[nm0301959]|0.9688581314878892| 568.2751102052424|\n",
            "|         [nm0374865]|[nm1433588]|0.9688581314878892| 578.1753734492362|\n",
            "|         [nm0647638]|[nm0000563]|0.9322033898305084| 614.0710560625814|\n",
            "|         [nm0647638]|[nm2625816]|0.9279661016949152| 685.0549751607247|\n",
            "+--------------------+-----------+------------------+------------------+\n",
            "only showing top 20 rows\n",
            "\n"
          ]
        }
      ]
    },
    {
      "cell_type": "code",
      "metadata": {
        "colab": {
          "base_uri": "https://localhost:8080/"
        },
        "id": "88hkg1x9-fEE",
        "outputId": "211cf0a6-dc1a-40cd-ed4b-5fdd0fbda91d"
      },
      "source": [
        "# transform examines the input items against all the association rules and summarize the\n",
        "# consequents as prediction\n",
        "asso = model.transform(bask)\n",
        "asso.createOrReplaceTempView('asso')\n",
        "query = 'SELECT * FROM asso WHERE size(prediction) > 0'\n",
        "prediction = spark.sql(query)\n",
        "prediction.show()"
      ],
      "execution_count": 30,
      "outputs": [
        {
          "output_type": "stream",
          "name": "stdout",
          "text": [
            "+---------+--------------------+--------------------+\n",
            "|   tconst|             name_id|          prediction|\n",
            "+---------+--------------------+--------------------+\n",
            "|tt0040695|[nm0694090, nm000...|         [nm0394438]|\n",
            "|tt0244000|[nm0268199, nm053...|         [nm1533927]|\n",
            "|tt0302361|[nm0001305, nm000...|[nm0374865, nm143...|\n",
            "|tt0380609|[nm0000321, nm033...|[nm0005194, nm000...|\n",
            "|tt0720166|[nm0005194, nm000...|         [nm0005110]|\n",
            "|tt0810922|[nm0283945, nm033...|[nm0005194, nm000...|\n",
            "|tt1031969|[nm0933988, nm126...|         [nm1024677]|\n",
            "|tt7001412|[nm1102140, nm729...|[nm0781981, nm000...|\n",
            "|tt0079576|[nm0005019, nm049...|         [nm0341431]|\n",
            "|tt0094919|[nm0342241, nm064...|         [nm0532235]|\n",
            "|tt0187559|[nm0301959, nm000...|[nm0374865, nm143...|\n",
            "|tt0416891|[nm0001505, nm000...|         [nm1131557]|\n",
            "|tt1031378|[nm0552509, nm073...|         [nm0001832]|\n",
            "|tt4274188|[nm0002023, nm000...|[nm0491402, nm000...|\n",
            "|tt0108333|[nm0000662, nm000...|[nm0647638, nm262...|\n",
            "|tt0108823|[nm0151419, nm014...|[nm0001772, nm000...|\n",
            "|tt0112790|[nm0002129, nm000...|         [nm0001938]|\n",
            "|tt0383010|[nm0005003, nm022...|         [nm0005202]|\n",
            "|tt0465624|[nm0005561, nm093...|         [nm1024677]|\n",
            "|tt0508124|[nm0001067, nm060...|[nm0000257, nm026...|\n",
            "+---------+--------------------+--------------------+\n",
            "only showing top 20 rows\n",
            "\n"
          ]
        }
      ]
    },
    {
      "cell_type": "code",
      "metadata": {
        "colab": {
          "base_uri": "https://localhost:8080/"
        },
        "id": "yjQufv0brce_",
        "outputId": "bc693ba0-d2b1-47cf-acbb-386227e1ab01"
      },
      "source": [
        "# transform examines the input items against all the association rules and summarize the\n",
        "# consequents as prediction\n",
        "asso = model.transform(bask)\n",
        "asso.createOrReplaceTempView('asso')\n",
        "query = 'SELECT name_id,prediction FROM asso WHERE size(prediction) = 1 AND size(name_id) = 4 LIMIT 2'\n",
        "prediction = spark.sql(query)\n",
        "prediction.show()"
      ],
      "execution_count": 34,
      "outputs": [
        {
          "output_type": "stream",
          "name": "stdout",
          "text": [
            "+--------------------+-----------+\n",
            "|             name_id| prediction|\n",
            "+--------------------+-----------+\n",
            "|[nm0973177, nm113...|[nm0001505]|\n",
            "|[nm0001459, nm000...|[nm0004951]|\n",
            "+--------------------+-----------+\n",
            "\n"
          ]
        }
      ]
    },
    {
      "cell_type": "code",
      "metadata": {
        "colab": {
          "base_uri": "https://localhost:8080/"
        },
        "id": "uEc6x4YwuG6a",
        "outputId": "f37ca843-fc35-4d26-d4ee-ee2baae26ddc"
      },
      "source": [
        "prediction.createOrReplaceTempView('prediction')\n",
        "prediction.select('name_id').show(truncate=False)"
      ],
      "execution_count": 38,
      "outputs": [
        {
          "output_type": "stream",
          "name": "stdout",
          "text": [
            "+--------------------------------------------+\n",
            "|name_id                                     |\n",
            "+--------------------------------------------+\n",
            "|[nm0973177, nm1131557, nm1519639, nm2868110]|\n",
            "|[nm0001459, nm0000491, nm0005405, nm0005380]|\n",
            "+--------------------------------------------+\n",
            "\n"
          ]
        }
      ]
    },
    {
      "cell_type": "code",
      "metadata": {
        "colab": {
          "base_uri": "https://localhost:8080/"
        },
        "id": "ecD8DQwbz1FK",
        "outputId": "62d3d9fa-d6fe-402c-e2f5-24efcfabab97"
      },
      "source": [
        "people.filter(people['nconst'] == 'nm0001505').select('primaryName').show()"
      ],
      "execution_count": 48,
      "outputs": [
        {
          "output_type": "stream",
          "name": "stdout",
          "text": [
            "+------------+\n",
            "| primaryName|\n",
            "+------------+\n",
            "|Joe Mantegna|\n",
            "+------------+\n",
            "\n"
          ]
        }
      ]
    },
    {
      "cell_type": "code",
      "metadata": {
        "colab": {
          "base_uri": "https://localhost:8080/"
        },
        "id": "NtnfdK3jsqCW",
        "outputId": "0c6cba83-3d70-4897-dce2-0a6c399d4ee6"
      },
      "source": [
        "x = ['nm0973177', 'nm1131557', 'nm1519639', 'nm2868110']\n",
        "y = []\n",
        "for i in x:\n",
        "  ppl = people.filter(people['nconst'] == i).select('primaryName').show()\n"
      ],
      "execution_count": 47,
      "outputs": [
        {
          "output_type": "stream",
          "name": "stdout",
          "text": [
            "+------------+\n",
            "| primaryName|\n",
            "+------------+\n",
            "|Kyle Gallner|\n",
            "+------------+\n",
            "\n",
            "+-------------------+\n",
            "|        primaryName|\n",
            "+-------------------+\n",
            "|Matthew Gray Gubler|\n",
            "+-------------------+\n",
            "\n",
            "+-----------+\n",
            "|primaryName|\n",
            "+-----------+\n",
            "|   Adam Nee|\n",
            "+-----------+\n",
            "\n",
            "+---------------+\n",
            "|    primaryName|\n",
            "+---------------+\n",
            "|Hannibal Buress|\n",
            "+---------------+\n",
            "\n"
          ]
        }
      ]
    },
    {
      "cell_type": "code",
      "metadata": {
        "colab": {
          "base_uri": "https://localhost:8080/"
        },
        "id": "t6AlIE4bx4F_",
        "outputId": "a54db44c-e535-4619-dfd9-495e192f9f02"
      },
      "source": [
        "x = ['nm0001459', 'nm0000491', 'nm0005405', 'nm0005380']\n",
        "y = []\n",
        "for i in x:\n",
        "  ppl = people.filter(people['nconst'] == i).select('primaryName').show()"
      ],
      "execution_count": 50,
      "outputs": [
        {
          "output_type": "stream",
          "name": "stdout",
          "text": [
            "+-----------+\n",
            "|primaryName|\n",
            "+-----------+\n",
            "|Denis Leary|\n",
            "+-----------+\n",
            "\n",
            "+--------------+\n",
            "|   primaryName|\n",
            "+--------------+\n",
            "|John Leguizamo|\n",
            "+--------------+\n",
            "\n",
            "+-------------------+\n",
            "|        primaryName|\n",
            "+-------------------+\n",
            "|Seann William Scott|\n",
            "+-------------------+\n",
            "\n",
            "+-----------+\n",
            "|primaryName|\n",
            "+-----------+\n",
            "| Ray Romano|\n",
            "+-----------+\n",
            "\n"
          ]
        }
      ]
    },
    {
      "cell_type": "code",
      "metadata": {
        "colab": {
          "base_uri": "https://localhost:8080/"
        },
        "id": "sIdnkqc90_wE",
        "outputId": "7d9c8bf8-cc35-4908-9c87-1c7fa9602f20"
      },
      "source": [
        "people.filter(people['nconst'] == 'nm0004951').select('primaryName').show()"
      ],
      "execution_count": 51,
      "outputs": [
        {
          "output_type": "stream",
          "name": "stdout",
          "text": [
            "+------------+\n",
            "| primaryName|\n",
            "+------------+\n",
            "|Brad Garrett|\n",
            "+------------+\n",
            "\n"
          ]
        }
      ]
    },
    {
      "cell_type": "code",
      "metadata": {
        "colab": {
          "base_uri": "https://localhost:8080/"
        },
        "id": "SDGryWRCrmMZ",
        "outputId": "15bd3b79-b11c-4389-9067-a2ca9de69988"
      },
      "source": [
        "# transform examines the input items against all the association rules and summarize the\n",
        "# consequents as prediction\n",
        "asso = model.transform(bask)\n",
        "asso.createOrReplaceTempView('asso')\n",
        "query = 'SELECT * FROM asso WHERE size(prediction) = 1 AND size(name_id) = 3 LIMIT 2'\n",
        "prediction = spark.sql(query)\n",
        "prediction.show(truncate=False)"
      ],
      "execution_count": 40,
      "outputs": [
        {
          "output_type": "stream",
          "name": "stdout",
          "text": [
            "+---------+---------------------------------+-----------+\n",
            "|tconst   |name_id                          |prediction |\n",
            "+---------+---------------------------------+-----------+\n",
            "|tt0244000|[nm0268199, nm0532683, nm0004790]|[nm1533927]|\n",
            "|tt0079576|[nm0005019, nm0494432, nm0000165]|[nm0341431]|\n",
            "+---------+---------------------------------+-----------+\n",
            "\n"
          ]
        }
      ]
    },
    {
      "cell_type": "code",
      "metadata": {
        "colab": {
          "base_uri": "https://localhost:8080/",
          "height": 283
        },
        "id": "ZkWvAqgV_w_l",
        "outputId": "e23e3443-6ae1-425d-ad31-370351626002"
      },
      "source": [
        "#Time for processing 25k, 50k, 100k, 200k and 400k \n",
        "#Time retrieved using an external notebook, limiting the query to 25k, 50k, 100k, 200k and 400k rows and timing 5 times the chunks of code required for the model (taking the median value)\n",
        "from matplotlib import pyplot as plt\n",
        "plt.plot([125,125,126,129,131],[25,50,100,200,400])"
      ],
      "execution_count": 52,
      "outputs": [
        {
          "output_type": "execute_result",
          "data": {
            "text/plain": [
              "[<matplotlib.lines.Line2D at 0x7fd9698d6ad0>]"
            ]
          },
          "metadata": {},
          "execution_count": 52
        },
        {
          "output_type": "display_data",
          "data": {
            "image/png": "[encoded data removed]",
            "text/plain": [
              "<Figure size 432x288 with 1 Axes>"
            ]
          },
          "metadata": {
            "needs_background": "light"
          }
        }
      ]
    }
  ]
}